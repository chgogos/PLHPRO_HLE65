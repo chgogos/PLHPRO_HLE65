{
 "cells": [
  {
   "cell_type": "markdown",
   "metadata": {},
   "source": [
    "# ΟΣΣ3"
   ]
  },
  {
   "cell_type": "code",
   "execution_count": 2,
   "metadata": {},
   "outputs": [
    {
     "name": "stdout",
     "output_type": "stream",
     "text": [
      "<class 'function'>\n"
     ]
    }
   ],
   "source": [
    "# και οι συναρτήσεις είναι αντικείμενα\n",
    "def fun():\n",
    "    pass\n",
    "\n",
    "print(type(fun))"
   ]
  },
  {
   "cell_type": "code",
   "execution_count": 10,
   "metadata": {},
   "outputs": [
    {
     "name": "stdout",
     "output_type": "stream",
     "text": [
      "x=1, y=2\n"
     ]
    },
    {
     "data": {
      "text/plain": [
       "Point(x=1, y=2)"
      ]
     },
     "execution_count": 10,
     "metadata": {},
     "output_type": "execute_result"
    }
   ],
   "source": [
    "# __str__ vs __repr__\n",
    "\n",
    "class Point:\n",
    "    def __init__(self, x, y):\n",
    "        self.x = x\n",
    "        self.y = y\n",
    "        \n",
    "    def __str__(self):\n",
    "        return f'X={self.x}, Y={self.y}'\n",
    "    \n",
    "    def __repr__(self):\n",
    "        return f'Point(x={self.x}, y={self.y})'\n",
    "    \n",
    "p1 = Point(1,2)\n",
    "print(p1)\n",
    "p1"
   ]
  },
  {
   "cell_type": "code",
   "execution_count": 13,
   "metadata": {},
   "outputs": [
    {
     "name": "stdout",
     "output_type": "stream",
     "text": [
      "3036373609888\n",
      "3036373613440\n",
      "Κλήση του καταστροφέα\n"
     ]
    }
   ],
   "source": [
    "# Καταστροφέας (destructor)\n",
    "\n",
    "class MyClass:\n",
    "    def __del__(self):\n",
    "        print(\"Κλήση του καταστροφέα\")\n",
    "        \n",
    "\n",
    "def fun():\n",
    "    obj = MyClass()\n",
    "    print(id(obj))\n",
    "\n",
    "fun()"
   ]
  },
  {
   "cell_type": "code",
   "execution_count": 4,
   "metadata": {},
   "outputs": [
    {
     "name": "stdout",
     "output_type": "stream",
     "text": [
      "[4, 3, 2, 1]\n",
      "4\n",
      "[3, 2, 1]\n"
     ]
    }
   ],
   "source": [
    "data =[]\n",
    "data.append(1)\n",
    "data.append(2)\n",
    "data.append(3)\n",
    "data.append(4)\n",
    "print(list(reversed(data)))\n",
    "x = data.pop()\n",
    "print(x)\n",
    "print(list(reversed(data)))"
   ]
  },
  {
   "cell_type": "markdown",
   "metadata": {},
   "source": [
    "## Unpack λίστας"
   ]
  },
  {
   "cell_type": "code",
   "execution_count": 8,
   "metadata": {},
   "outputs": [
    {
     "name": "stdout",
     "output_type": "stream",
     "text": [
      "1 2 3\n",
      "1 [2, 3]\n",
      "[1, 2] 3\n"
     ]
    }
   ],
   "source": [
    "a_list = [1, 2, 3]\n",
    "a, b, c = a_list  # ok -> αυτόματο unpack λίστας καθώς το πλήθος των στοιχείων της λίστας και το πλήθος των μεταβλητών στις οποίες ανατίθενται είναι το ίδιο\n",
    "print(a, b, c)\n",
    "\n",
    "# a,b = a_list # not ok -> διότι το πλήθος των στοιχείων της λίστας και το πλήθος των μεταβλητών στις οποίες ανατίθενται δεν είναι το ίδιο\n",
    "\n",
    "a, *b = a_list # ok -> πακετάρισμα τιμών που μένουν στη μεταβλητή b\n",
    "print(a,b)\n",
    "\n",
    "*a,b = a_list # ok -> πακετάρισμα τιμών που μένουν στη μεταβλητή a\n",
    "print(a,b)"
   ]
  },
  {
   "cell_type": "code",
   "execution_count": 9,
   "metadata": {},
   "outputs": [
    {
     "name": "stdout",
     "output_type": "stream",
     "text": [
      "ATH Athens 37.936389°N 23.947222°E\n",
      "ATH Athens 37.936389°N 23.947222°E\n"
     ]
    }
   ],
   "source": [
    "# παράδειγμα pack, unpack\n",
    "a_line = \"ATH\tAthens\t37.936389°N 23.947222°E\"\n",
    "\n",
    "abr, city, coord1, coord2 = a_line.split()\n",
    "print(abr, city, coord1, coord2)\n",
    "\n",
    "def fun(abr, city, coord1, coord2):\n",
    "    print(abr, city, coord1, coord2)\n",
    "\n",
    "# fun(a_line.split())    # not ok -> για να κληθεί σωστά η συνάρτηση fun χρειάζεται να καλείται με 4 ορίσματα και όχι με 1\n",
    "fun(*a_line.split()) # ok -> με το unpack η κλήση της συνάρτησης γίνεται με 4 ορίσματα"
   ]
  },
  {
   "cell_type": "markdown",
   "metadata": {},
   "source": [
    "## Συναρτήσεις, μέθοδοι, στατικές μέθοδοι, μέθοδοι κλάσης"
   ]
  },
  {
   "cell_type": "code",
   "execution_count": 18,
   "metadata": {},
   "outputs": [
    {
     "name": "stdout",
     "output_type": "stream",
     "text": [
      "κλήση της συνάρτησης fun1 με όρισμα 5\n",
      "κλήση της μεθόδου fun2 της κλάσης MyClass με όρισμα 5\n",
      "κλήση της στατικής μεθόδου fun3 της κλάσης MyClass με όρισμα 5\n",
      "κλήση της μεθόδου κλάσης fun4 της κλάσης MyClass με όρισμα 5\n",
      "κλήση της μεθόδου κλάσης fun5 της κλάσης MyClass με όρισμα 5\n",
      "κλήση της μεθόδου κλάσης fun4 της κλάσης MyClass με όρισμα 5\n"
     ]
    }
   ],
   "source": [
    "# function (συνάρτηση): ορίζεται εκτός κλάσεων, καλείται απλά με το όνομά της (π.χ. fun1)\n",
    "# method (μέθοδος): το πλέον κοινό είδος μεθόδου, έχει πρόσβαση στα δεδομένα του αντικειμένου για το οποίο καλείται (έχει ως πρώτη παράμετρο το self), (π.χ. fun2)\n",
    "# staticmethod (στατική μέθοδο): επιτελεί μια χρήσιμη λειτουργία σχετική με την κλάση, χωρίς να μπορεί να καλέσει κάποια άλλη μέθοδο της κλάσης  (π.χ. fun3)\n",
    "# classmethod (μέθοδος κλάσης): μπορεί να καλεί άλλες classmethods της κλάσης (έχει ως πρώτη παράμετρο το cls), (π.χ. fun4, fun5) \n",
    "\n",
    "\n",
    "def fun1(x):\n",
    "    print(f\"κλήση της συνάρτησης fun1 με όρισμα {x}\")\n",
    "\n",
    "\n",
    "class MyClass:\n",
    "\n",
    "    a = 0  # class variable, μοιράζεται από όλα τα αντικείμενα\n",
    "\n",
    "    def __init__(self, mpd):\n",
    "        self.my_precious_data = mpd # instance variable, είναι ξεχωριστό για κάθε αντικείμενο\n",
    "        MyClass.a += 1\n",
    "\n",
    "    def fun2(self, x):\n",
    "        print(f\"κλήση της μεθόδου fun2 της κλάσης MyClass με όρισμα {x}\")\n",
    "        self.my_precious_data += 1\n",
    "\n",
    "    @staticmethod\n",
    "    def fun3(x):\n",
    "        print(f\"κλήση της στατικής μεθόδου fun3 της κλάσης MyClass με όρισμα {x}\")\n",
    "\n",
    "    @classmethod\n",
    "    def fun4(cls, x):\n",
    "        print(f\"κλήση της μεθόδου κλάσης fun4 της κλάσης MyClass με όρισμα {x}\")\n",
    "\n",
    "    @classmethod\n",
    "    def fun5(cls, x):\n",
    "        print(f\"κλήση της μεθόδου κλάσης fun5 της κλάσης MyClass με όρισμα {x}\")\n",
    "        cls.fun4(x)\n",
    "\n",
    "fun1(5)  # κλήση συνάρτησης fun1\n",
    "\n",
    "obj = MyClass(100)  # δημιουργία αντικειμένου obj\n",
    "\n",
    "obj.fun2(5)  # κλήση μεθόδου fun2 για το αντικείμενο obj\n",
    "\n",
    "MyClass.fun3(5)  # κλήση στατικής μεθόδου fun3\n",
    "\n",
    "MyClass.fun4(5) # κλήση μεθόδου κλάσης fun4\n",
    "\n",
    "MyClass.fun5(5) # κλήση μεθόδου κλάσης fun5"
   ]
  },
  {
   "cell_type": "code",
   "execution_count": null,
   "metadata": {},
   "outputs": [],
   "source": []
  }
 ],
 "metadata": {
  "interpreter": {
   "hash": "df0e2e8c0f0ded38fbb4d34030ae79c6158db9df6b5085f84b51c606d15585fb"
  },
  "kernelspec": {
   "display_name": "Python 3.10.0 64-bit",
   "language": "python",
   "name": "python3"
  },
  "language_info": {
   "codemirror_mode": {
    "name": "ipython",
    "version": 3
   },
   "file_extension": ".py",
   "mimetype": "text/x-python",
   "name": "python",
   "nbconvert_exporter": "python",
   "pygments_lexer": "ipython3",
   "version": "3.10.0"
  },
  "orig_nbformat": 4
 },
 "nbformat": 4,
 "nbformat_minor": 2
}
