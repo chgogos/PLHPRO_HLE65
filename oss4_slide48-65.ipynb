{
 "cells": [
  {
   "cell_type": "markdown",
   "metadata": {},
   "source": [
    "# pandas"
   ]
  },
  {
   "cell_type": "code",
   "execution_count": 1,
   "metadata": {},
   "outputs": [
    {
     "name": "stdout",
     "output_type": "stream",
     "text": [
      "0    1\n",
      "1    7\n",
      "2    2\n"
     ]
    }
   ],
   "source": [
    "# slide  48\n",
    "\n",
    "import pandas as pd\n",
    "\n",
    "a = [1, 7, 2]\n",
    "myvar1 = pd.Series(a)\n",
    "\n",
    "print(myvar1.to_string())\n"
   ]
  },
  {
   "cell_type": "code",
   "execution_count": 2,
   "metadata": {},
   "outputs": [
    {
     "name": "stdout",
     "output_type": "stream",
     "text": [
      "x    1\n",
      "y    7\n",
      "z    2\n"
     ]
    }
   ],
   "source": [
    "import pandas as pd\n",
    "\n",
    "a = [1, 7, 2]\n",
    "myvar2 = pd.Series(a, index = [\"x\", \"y\", \"z\"])\n",
    "\n",
    "print(myvar2.to_string())"
   ]
  },
  {
   "cell_type": "code",
   "execution_count": 4,
   "metadata": {},
   "outputs": [
    {
     "name": "stdout",
     "output_type": "stream",
     "text": [
      "Greece     Athens\n",
      "Germany    Berlin\n",
      "Italy        Rome\n",
      "dtype: object\n"
     ]
    }
   ],
   "source": [
    "# slide 50\n",
    "\n",
    "import pandas as pd\n",
    "dictionary = {'Greece':'Athens',\n",
    "              'Germany':'Berlin',\n",
    "              'Italy':'Rome'}\n",
    "data1 = pd.Series(dictionary)\n",
    "print(data1)\n"
   ]
  },
  {
   "cell_type": "code",
   "execution_count": 5,
   "metadata": {},
   "outputs": [
    {
     "name": "stdout",
     "output_type": "stream",
     "text": [
      "  countries  population dialing_code\n",
      "0    Greece    10720000          +30\n",
      "1   Germany    83240000          +49\n",
      "2    France    67390000          +33\n"
     ]
    }
   ],
   "source": [
    "import pandas as pd\n",
    "\n",
    "mydataset = {\n",
    "  'countries': [\"Greece\", \"Germany\", \"France\"],\n",
    "  'population': [ 10720000, 83240000, 67390000],\n",
    "  'dialing_code': [ '+30', '+49', '+33']\n",
    "}\n",
    "\n",
    "data = pd.DataFrame(mydataset)\n",
    "\n",
    "print(data)"
   ]
  },
  {
   "cell_type": "code",
   "execution_count": 6,
   "metadata": {},
   "outputs": [
    {
     "name": "stdout",
     "output_type": "stream",
     "text": [
      "0     Greece\n",
      "1    Germany\n",
      "2     France\n",
      "Name: countries, dtype: object \n",
      "\n",
      "  countries dialing_code\n",
      "0    Greece          +30\n",
      "1   Germany          +49\n",
      "2    France          +33 \n",
      "\n",
      "  countries  population dialing_code\n",
      "1   Germany    83240000          +49\n"
     ]
    }
   ],
   "source": [
    "# slide 52\n",
    "\n",
    "import pandas as pd\n",
    "\n",
    "mydataset = {\n",
    "  'countries': [\"Greece\", \"Germany\", \"France\"],\n",
    "  'population': [ 10720000, 83240000, 67390000],\n",
    "  'dialing_code': [ '+30', '+49', '+33']\n",
    "}\n",
    "\n",
    "data = pd.DataFrame(mydataset)\n",
    "\n",
    "print(data['countries'],'\\n')\n",
    "print(data[['countries','dialing_code']],'\\n')\n",
    "print(data[1:2])"
   ]
  },
  {
   "cell_type": "code",
   "execution_count": 7,
   "metadata": {},
   "outputs": [
    {
     "name": "stdout",
     "output_type": "stream",
     "text": [
      "  countries  population\n",
      "1   Germany    83240000\n",
      "2    France    67390000\n",
      "<class 'pandas.core.frame.DataFrame'>\n"
     ]
    }
   ],
   "source": [
    "# slide 53\n",
    "\n",
    "import pandas as pd\n",
    "\n",
    "mydataset = {\n",
    "  'countries': [\"Greece\", \"Germany\", \"France\"],\n",
    "  'population': [ 10720000, 83240000, 67390000],\n",
    "  'dialing_code': [ '+30', '+49', '+33']\n",
    "}\n",
    "\n",
    "data = pd.DataFrame(mydataset)\n",
    "\n",
    "myvar = data.loc[1:2 ,['countries', 'population']]\n",
    "print(myvar)\n",
    "print(type(myvar))\n",
    "\n"
   ]
  },
  {
   "cell_type": "code",
   "execution_count": 8,
   "metadata": {},
   "outputs": [
    {
     "name": "stdout",
     "output_type": "stream",
     "text": [
      "  countries  population dialing_code\n",
      "0    Greece    10720000          +30\n",
      "2    France    67390000          +33\n",
      "1   Germany    83240000          +49\n"
     ]
    }
   ],
   "source": [
    "# slide 55\n",
    "\n",
    "import pandas as pd\n",
    "\n",
    "mydataset = {\n",
    "  'countries': [\"Greece\", \"Germany\", \"France\"],\n",
    "  'population': [ 10720000, 83240000, 67390000],\n",
    "  'dialing_code': [ '+30', '+49', '+33']\n",
    "}\n",
    "\n",
    "data = pd.DataFrame(mydataset)\n",
    "data_sorted = data.sort_values(by='population')\n",
    "print(data_sorted)"
   ]
  },
  {
   "cell_type": "code",
   "execution_count": 9,
   "metadata": {},
   "outputs": [
    {
     "name": "stdout",
     "output_type": "stream",
     "text": [
      "  countries  population dialing_code\n",
      "1   Germany    83240000          +49\n",
      "2    France    67390000          +33\n",
      "0    Greece    10720000          +30\n"
     ]
    }
   ],
   "source": [
    "import pandas as pd\n",
    "\n",
    "mydataset = {\n",
    "  'countries': [\"Greece\", \"Germany\", \"France\"],\n",
    "  'population': [ 10720000, 83240000, 67390000],\n",
    "  'dialing_code': [ '+30', '+49', '+33']\n",
    "}\n",
    "\n",
    "data = pd.DataFrame(mydataset)\n",
    "data_sorted = data.sort_values(by=['population','countries'], ascending = [False, True])\n",
    "print(data_sorted)"
   ]
  },
  {
   "cell_type": "code",
   "execution_count": 10,
   "metadata": {},
   "outputs": [
    {
     "name": "stdout",
     "output_type": "stream",
     "text": [
      "     sepal.length  sepal.width  petal.length  petal.width    variety\n",
      "0             5.1          3.5           1.4          0.2     Setosa\n",
      "1             4.9          3.0           1.4          0.2     Setosa\n",
      "2             4.7          3.2           1.3          0.2     Setosa\n",
      "3             4.6          3.1           1.5          0.2     Setosa\n",
      "4             5.0          3.6           1.4          0.2     Setosa\n",
      "..            ...          ...           ...          ...        ...\n",
      "145           6.7          3.0           5.2          2.3  Virginica\n",
      "146           6.3          2.5           5.0          1.9  Virginica\n",
      "147           6.5          3.0           5.2          2.0  Virginica\n",
      "148           6.2          3.4           5.4          2.3  Virginica\n",
      "149           5.9          3.0           5.1          1.8  Virginica\n",
      "\n",
      "[150 rows x 5 columns]\n"
     ]
    }
   ],
   "source": [
    "# slide 57\n",
    "\n",
    "import pandas as pd\n",
    "fdata = 'https://gist.githubusercontent.com/netj/8836201/raw/6f9306ad21398ea43cba4f7d537619d0e07d5ae3/iris.csv'\n",
    "df = pd.read_csv(fdata)\n",
    "print(df)"
   ]
  },
  {
   "cell_type": "code",
   "execution_count": 11,
   "metadata": {},
   "outputs": [
    {
     "name": "stdout",
     "output_type": "stream",
     "text": [
      "   sepal.length  sepal.width  petal.length  petal.width variety\n",
      "0           5.1          3.5           1.4          0.2  Setosa\n",
      "1           4.9          3.0           1.4          0.2  Setosa\n",
      "2           4.7          3.2           1.3          0.2  Setosa\n",
      "3           4.6          3.1           1.5          0.2  Setosa\n",
      "4           5.0          3.6           1.4          0.2  Setosa\n",
      "5           5.4          3.9           1.7          0.4  Setosa\n",
      "6           4.6          3.4           1.4          0.3  Setosa\n",
      "7           5.0          3.4           1.5          0.2  Setosa\n",
      "8           4.4          2.9           1.4          0.2  Setosa\n",
      "9           4.9          3.1           1.5          0.1  Setosa \n",
      "\n",
      "     sepal.length  sepal.width  petal.length  petal.width    variety\n",
      "140           6.7          3.1           5.6          2.4  Virginica\n",
      "141           6.9          3.1           5.1          2.3  Virginica\n",
      "142           5.8          2.7           5.1          1.9  Virginica\n",
      "143           6.8          3.2           5.9          2.3  Virginica\n",
      "144           6.7          3.3           5.7          2.5  Virginica\n",
      "145           6.7          3.0           5.2          2.3  Virginica\n",
      "146           6.3          2.5           5.0          1.9  Virginica\n",
      "147           6.5          3.0           5.2          2.0  Virginica\n",
      "148           6.2          3.4           5.4          2.3  Virginica\n",
      "149           5.9          3.0           5.1          1.8  Virginica \n",
      "\n",
      "<class 'pandas.core.frame.DataFrame'>\n",
      "RangeIndex: 150 entries, 0 to 149\n",
      "Data columns (total 5 columns):\n",
      " #   Column        Non-Null Count  Dtype  \n",
      "---  ------        --------------  -----  \n",
      " 0   sepal.length  150 non-null    float64\n",
      " 1   sepal.width   150 non-null    float64\n",
      " 2   petal.length  150 non-null    float64\n",
      " 3   petal.width   150 non-null    float64\n",
      " 4   variety       150 non-null    object \n",
      "dtypes: float64(4), object(1)\n",
      "memory usage: 6.0+ KB\n",
      "None \n",
      "\n",
      "     sepal.length  sepal.width  petal.length  petal.width    variety\n",
      "13            4.3          3.0           1.1          0.1     Setosa\n",
      "42            4.4          3.2           1.3          0.2     Setosa\n",
      "38            4.4          3.0           1.3          0.2     Setosa\n",
      "8             4.4          2.9           1.4          0.2     Setosa\n",
      "41            4.5          2.3           1.3          0.3     Setosa\n",
      "..            ...          ...           ...          ...        ...\n",
      "122           7.7          2.8           6.7          2.0  Virginica\n",
      "118           7.7          2.6           6.9          2.3  Virginica\n",
      "117           7.7          3.8           6.7          2.2  Virginica\n",
      "135           7.7          3.0           6.1          2.3  Virginica\n",
      "131           7.9          3.8           6.4          2.0  Virginica\n",
      "\n",
      "[150 rows x 5 columns] \n",
      "\n",
      "       sepal.length  sepal.width  petal.length  petal.width\n",
      "count    150.000000   150.000000    150.000000   150.000000\n",
      "mean       5.843333     3.057333      3.758000     1.199333\n",
      "std        0.828066     0.435866      1.765298     0.762238\n",
      "min        4.300000     2.000000      1.000000     0.100000\n",
      "25%        5.100000     2.800000      1.600000     0.300000\n",
      "50%        5.800000     3.000000      4.350000     1.300000\n",
      "75%        6.400000     3.300000      5.100000     1.800000\n",
      "max        7.900000     4.400000      6.900000     2.500000 \n",
      "\n",
      "sepal.length    float64\n",
      "sepal.width     float64\n",
      "petal.length    float64\n",
      "petal.width     float64\n",
      "variety          object\n",
      "dtype: object \n",
      "\n",
      "     sepal.length  sepal.width  petal.length  petal.width     variety\n",
      "17            5.1          3.5           1.4          0.3      Setosa\n",
      "41            4.5          2.3           1.3          0.3      Setosa\n",
      "68            6.2          2.2           4.5          1.5  Versicolor\n",
      "138           6.0          3.0           4.8          1.8   Virginica\n",
      "33            5.5          4.2           1.4          0.2      Setosa\n",
      "143           6.8          3.2           5.9          2.3   Virginica\n",
      "132           6.4          2.8           5.6          2.2   Virginica\n",
      "123           6.3          2.7           4.9          1.8   Virginica\n"
     ]
    }
   ],
   "source": [
    "# slide 58\n",
    "\n",
    "# εκτύπωση δεδομένων ως συμβολοσειρά\n",
    "import pandas as pd\n",
    "fdata = 'https://gist.githubusercontent.com/netj/8836201/raw/6f9306ad21398ea43cba4f7d537619d0e07d5ae3/iris.csv'\n",
    "df = pd.read_csv(fdata)\n",
    "\n",
    "#print(df.to_string(),'\\n') \n",
    "print(df.head(10),'\\n')\n",
    "print(df.tail(10),'\\n') \n",
    "print(df.info(),'\\n')\n",
    "print(df.sort_values(by='sepal.length'),'\\n')\n",
    "print(df.describe(),'\\n')\n",
    "print(df.dtypes,'\\n')\n",
    "print(df.sample(8))"
   ]
  },
  {
   "cell_type": "code",
   "execution_count": 12,
   "metadata": {},
   "outputs": [
    {
     "name": "stdout",
     "output_type": "stream",
     "text": [
      "   sepal.length  sepal.width  petal.length  petal.width    variety\n",
      "0           5.1          3.5           1.4          0.2     Setosa\n",
      "1           4.9          3.0           1.4          0.2       None\n",
      "2           NaN          3.4           1.3          0.2     Setosa\n",
      "3           4.6          3.2           1.5          0.2  Virginica\n",
      "4           5.0          2.5           NaN          1.9  Virginica\n"
     ]
    }
   ],
   "source": [
    "# slide 60\n",
    "\n",
    "import pandas as pd\n",
    "data = {'sepal.length':[5.1, 4.9, None, 4.6, 5.0],\n",
    "           'sepal.width':[3.5, 3.0, 3.4, 3.2, 2.5],\n",
    "           'petal.length':[1.4, 1.4, 1.3, 1.5, None],\n",
    "           'petal.width':[0.2, 0.2, 0.2, 0.2, 1.9],\n",
    "           'variety':['Setosa', None, 'Setosa', 'Virginica', 'Virginica']\n",
    "           }\n",
    "df = pd.DataFrame(data)\n",
    "print(df)\n"
   ]
  },
  {
   "cell_type": "code",
   "execution_count": 13,
   "metadata": {},
   "outputs": [
    {
     "name": "stdout",
     "output_type": "stream",
     "text": [
      "   sepal.length  sepal.width  petal.length  petal.width    variety\n",
      "0           5.1          3.5           1.4          0.2     Setosa\n",
      "3           4.6          3.2           1.5          0.2  Virginica \n",
      "\n",
      "   sepal.length  sepal.width  petal.length  petal.width    variety\n",
      "0           5.1          3.5           1.4          0.2     Setosa\n",
      "3           4.6          3.2           1.5          0.2  Virginica \n",
      "\n"
     ]
    }
   ],
   "source": [
    "# slide 61\n",
    "\n",
    "import pandas as pd\n",
    "data = {'sepal.length':[5.1, 4.9, None, 4.6, 5.0],\n",
    "           'sepal.width':[3.5, 3.0, 3.4, 3.2, 2.5],\n",
    "           'petal.length':[1.4, 1.4, 1.3, 1.5, None],\n",
    "           'petal.width':[0.2, 0.2, 0.2, 0.2, 1.9],\n",
    "           'variety':['Setosa', None, 'Setosa', 'Virginica', 'Virginica']\n",
    "           }\n",
    "df = pd.DataFrame(data)\n",
    "\n",
    "df_1 = df.dropna()\n",
    "print(df_1,'\\n')\n",
    "\n",
    "df.dropna(inplace = True)# για να μην φτιάξει καινούριο dataframe\n",
    "print(df,'\\n')"
   ]
  },
  {
   "cell_type": "code",
   "execution_count": 14,
   "metadata": {},
   "outputs": [
    {
     "name": "stdout",
     "output_type": "stream",
     "text": [
      "   sepal.length  sepal.width  petal.length  petal.width    variety\n",
      "0           5.1          3.5           1.4          0.2     Setosa\n",
      "1           4.9          3.0           1.4          0.2        1.5\n",
      "2           1.5          3.4           1.3          0.2     Setosa\n",
      "3           4.6          3.2           1.5          0.2  Virginica\n",
      "4           5.0          2.5           1.5          1.9  Virginica \n",
      "\n"
     ]
    }
   ],
   "source": [
    "# slide 62\n",
    "\n",
    "import pandas as pd\n",
    "data = {'sepal.length':[5.1, 4.9, None, 4.6, 5.0],\n",
    "           'sepal.width':[3.5, 3.0, 3.4, 3.2, 2.5],\n",
    "           'petal.length':[1.4, 1.4, 1.3, 1.5, None],\n",
    "           'petal.width':[0.2, 0.2, 0.2, 0.2, 1.9],\n",
    "           'variety':['Setosa', None, 'Setosa', 'Virginica', 'Virginica']\n",
    "           }\n",
    "df = pd.DataFrame(data)\n",
    "\n",
    "df_1 = df.fillna(1.5)\n",
    "print(df_1,'\\n')"
   ]
  },
  {
   "cell_type": "code",
   "execution_count": 15,
   "metadata": {},
   "outputs": [
    {
     "name": "stdout",
     "output_type": "stream",
     "text": [
      "1.4\n",
      "   sepal.length  sepal.width  petal.length  petal.width    variety\n",
      "0           5.1          3.5           1.4          0.2     Setosa\n",
      "1           4.9          3.0           1.4          0.2       None\n",
      "2           NaN          3.4           1.3          0.2     Setosa\n",
      "3           4.6          3.2           1.5          0.2  Virginica\n",
      "4           5.0          2.5           1.4          1.9  Virginica \n",
      "\n"
     ]
    }
   ],
   "source": [
    "# slide 63\n",
    "\n",
    "import pandas as pd\n",
    "data = {'sepal.length':[5.1, 4.9, None, 4.6, 5.0],\n",
    "           'sepal.width':[3.5, 3.0, 3.4, 3.2, 2.5],\n",
    "           'petal.length':[1.4, 1.4, 1.3, 1.5, None],\n",
    "           'petal.width':[0.2, 0.2, 0.2, 0.2, 1.9],\n",
    "           'variety':['Setosa', None, 'Setosa', 'Virginica', 'Virginica']\n",
    "           }\n",
    "df = pd.DataFrame(data)\n",
    "\n",
    "x = df[\"petal.length\"].mean() #.median() .mode()\n",
    "print(x)\n",
    "\n",
    "df[\"petal.length\"].fillna(x, inplace = True)\n",
    "print(df,'\\n')"
   ]
  },
  {
   "cell_type": "code",
   "execution_count": 16,
   "metadata": {},
   "outputs": [
    {
     "name": "stdout",
     "output_type": "stream",
     "text": [
      "      petal.length  sepal.width\n",
      "min            1.3         2.50\n",
      "max            1.5         3.50\n",
      "mean           1.4         3.12\n"
     ]
    }
   ],
   "source": [
    "# slide 64\n",
    "\n",
    "import pandas as pd\n",
    "data = {'sepal.length':[5.1, 4.9, None, 4.6, 5.0],\n",
    "           'sepal.width':[3.5, 3.0, 3.4, 3.2, 2.5],\n",
    "           'petal.length':[1.4, 1.4, 1.3, 1.5, None],\n",
    "           'petal.width':[0.2, 0.2, 0.2, 0.2, 1.9],\n",
    "           'variety':['Setosa', None, 'Setosa', 'Virginica', 'Virginica']\n",
    "           }\n",
    "df = pd.DataFrame(data)\n",
    "\n",
    "res = df[['petal.length','sepal.width']].agg(['min','max', 'mean'])\n",
    "print(res)"
   ]
  },
  {
   "cell_type": "code",
   "execution_count": 18,
   "metadata": {},
   "outputs": [
    {
     "data": {
      "text/plain": [
       "<AxesSubplot:>"
      ]
     },
     "execution_count": 18,
     "metadata": {},
     "output_type": "execute_result"
    },
    {
     "data": {
      "image/png": "[encoded data removed]",
      "text/plain": [
       "<Figure size 432x288 with 1 Axes>"
      ]
     },
     "metadata": {
      "needs_background": "light"
     },
     "output_type": "display_data"
    }
   ],
   "source": [
    "# slide 65\n",
    "\n",
    "import pandas as pd\n",
    "import matplotlib.pyplot as plt\n",
    "\n",
    "fdata = 'https://gist.githubusercontent.com/netj/8836201/raw/6f9306ad21398ea43cba4f7d537619d0e07d5ae3/iris.csv'\n",
    "df = pd.read_csv(fdata)\n",
    "\n",
    "df2 = df[['sepal.length','sepal.width','petal.length','petal.width']].mean()\n",
    "df2.plot(kind='barh')\n",
    "\n"
   ]
  },
  {
   "cell_type": "code",
   "execution_count": 19,
   "metadata": {},
   "outputs": [
    {
     "data": {
      "text/plain": [
       "<AxesSubplot:ylabel='Frequency'>"
      ]
     },
     "execution_count": 19,
     "metadata": {},
     "output_type": "execute_result"
    },
    {
     "data": {
      "image/png": "[encoded data removed]",
      "text/plain": [
       "<Figure size 432x288 with 1 Axes>"
      ]
     },
     "metadata": {
      "needs_background": "light"
     },
     "output_type": "display_data"
    }
   ],
   "source": [
    "import pandas as pd\n",
    "\n",
    "fdata = 'https://gist.githubusercontent.com/netj/8836201/raw/6f9306ad21398ea43cba4f7d537619d0e07d5ae3/iris.csv'\n",
    "df = pd.read_csv(fdata)\n",
    "\n",
    "df3 = df[['sepal.length','sepal.width','petal.length','petal.width']].std()\n",
    "df3.plot(kind='hist')"
   ]
  },
  {
   "cell_type": "code",
   "execution_count": null,
   "metadata": {},
   "outputs": [],
   "source": []
  }
 ],
 "metadata": {
  "interpreter": {
   "hash": "f40a6e13c37d34a8e08b5b5c92d22f0cb84668e50c3976fc188360a208488fc1"
  },
  "kernelspec": {
   "display_name": "Python 3.8.13 ('myenv')",
   "language": "python",
   "name": "python3"
  },
  "language_info": {
   "codemirror_mode": {
    "name": "ipython",
    "version": 3
   },
   "file_extension": ".py",
   "mimetype": "text/x-python",
   "name": "python",
   "nbconvert_exporter": "python",
   "pygments_lexer": "ipython3",
   "version": "3.8.13"
  },
  "orig_nbformat": 4
 },
 "nbformat": 4,
 "nbformat_minor": 2
}
