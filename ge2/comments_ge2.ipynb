{
 "cells": [
  {
   "cell_type": "markdown",
   "metadata": {},
   "source": [
    "# Σχόλια για τη ΓΕ2"
   ]
  },
  {
   "cell_type": "markdown",
   "metadata": {},
   "source": [
    "## ΥΠΟΕΡΓΑΣΙΑ 1"
   ]
  },
  {
   "cell_type": "code",
   "execution_count": 3,
   "metadata": {},
   "outputs": [
    {
     "name": "stdout",
     "output_type": "stream",
     "text": [
      "[0.3520905045798979, 0.5306005356333833, 0.6780623136675137, 0.6050551348946427, 0.40923575623962594]\n",
      "[0.3520905045798979, 0.5306005356333833, 0.6780623136675137, 0.6050551348946427, 0.40923575623962594]\n"
     ]
    }
   ],
   "source": [
    "# Ο ρόλος του seed\n",
    "import random\n",
    "random.seed(1821)\n",
    "\n",
    "a_list = []\n",
    "for _ in range(5):\n",
    "    a_list.append(random.random())\n",
    "print(a_list)\n",
    "\n",
    "random.seed(1821)\n",
    "b_list = [random.random() for _ in range(5)] # ίδιο αποτέλεσμα με τις γραμμές με τον κώδικα στις γραμμές 5-7, αλλά συντομότερο καθώς κάνει χρήση list coprehension\n",
    "print(b_list) # ίδια αποτελέσματα με την a_list καθώς χρησιμοποιείται το ίδιο seed"
   ]
  },
  {
   "cell_type": "code",
   "execution_count": 25,
   "metadata": {},
   "outputs": [],
   "source": [
    "# ο ρόλος του pass\n",
    "def func():\n",
    "    pass\n",
    "\n",
    "def func(): \n",
    "    ... # εναλλακτικά αντί για pass\n",
    "\n",
    "func()"
   ]
  },
  {
   "cell_type": "code",
   "execution_count": 4,
   "metadata": {},
   "outputs": [
    {
     "name": "stdout",
     "output_type": "stream",
     "text": [
      "10\n",
      "15\n"
     ]
    }
   ],
   "source": [
    "def multiply(x, times=2):\n",
    "    return x * times\n",
    "\n",
    "print(multiply(5))\n",
    "print(multiply(5,3))"
   ]
  },
  {
   "cell_type": "markdown",
   "metadata": {},
   "source": [
    "## ΥΠΟΕΡΓΑΣΙΑ 2"
   ]
  },
  {
   "cell_type": "code",
   "execution_count": 23,
   "metadata": {},
   "outputs": [
    {
     "name": "stdout",
     "output_type": "stream",
     "text": [
      "0 a\n",
      "1 b\n",
      "2 c\n",
      "0 a\n",
      "1 b\n",
      "2 c\n"
     ]
    }
   ],
   "source": [
    "# διάσχιση στοιχείων λίστας με μεταβλητή θέσης i για κάθε στοιχείο\n",
    "a_list = ['a', 'b', 'c']\n",
    "\n",
    "for i in range(len(a_list)):\n",
    "    print(i, a_list[i])\n",
    "\n",
    "# καλύτερα    \n",
    "for i, x in enumerate(a_list):\n",
    "    print(i, x)"
   ]
  },
  {
   "cell_type": "markdown",
   "metadata": {},
   "source": [
    "## ΥΠΟΕΡΓΑΣΙΑ 3"
   ]
  },
  {
   "cell_type": "code",
   "execution_count": 30,
   "metadata": {},
   "outputs": [
    {
     "data": {
      "text/plain": [
       "([], (), {}, set())"
      ]
     },
     "execution_count": 30,
     "metadata": {},
     "output_type": "execute_result"
    }
   ],
   "source": [
    "# άδεια λίστα, πλειάδα, λεξικό και σύνολο\n",
    "l = []\n",
    "t = ()\n",
    "d = {}\n",
    "s = set()\n",
    "l,t,d,s"
   ]
  },
  {
   "cell_type": "markdown",
   "metadata": {},
   "source": []
  }
 ],
 "metadata": {
  "interpreter": {
   "hash": "df0e2e8c0f0ded38fbb4d34030ae79c6158db9df6b5085f84b51c606d15585fb"
  },
  "kernelspec": {
   "display_name": "Python 3.10.0 64-bit",
   "language": "python",
   "name": "python3"
  },
  "language_info": {
   "codemirror_mode": {
    "name": "ipython",
    "version": 3
   },
   "file_extension": ".py",
   "mimetype": "text/x-python",
   "name": "python",
   "nbconvert_exporter": "python",
   "pygments_lexer": "ipython3",
   "version": "3.10.0"
  },
  "orig_nbformat": 4
 },
 "nbformat": 4,
 "nbformat_minor": 2
}
