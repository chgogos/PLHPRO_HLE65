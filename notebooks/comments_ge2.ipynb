{
 "cells": [
  {
   "cell_type": "markdown",
   "metadata": {},
   "source": [
    "# Σχόλια για τη ΓΕ2"
   ]
  },
  {
   "cell_type": "markdown",
   "metadata": {},
   "source": [
    "## ΥΠΟΕΡΓΑΣΙΑ 1"
   ]
  },
  {
   "cell_type": "code",
   "execution_count": 14,
   "metadata": {},
   "outputs": [
    {
     "name": "stdout",
     "output_type": "stream",
     "text": [
      "[0.9893965972969032, 0.24789140949109634, 0.8233570479204805, 0.7230236541699364, 0.8173173736519047]\n"
     ]
    }
   ],
   "source": [
    "# Ο ρόλος του seed\n",
    "import random\n",
    "# random.seed(1821)\n",
    "\n",
    "a_list = []\n",
    "for _ in range(5):\n",
    "    a_list.append(random.random())\n",
    "print(a_list)"
   ]
  },
  {
   "cell_type": "code",
   "execution_count": null,
   "metadata": {},
   "outputs": [],
   "source": [
    "# ο ρόλος του pass\n",
    "def func():\n",
    "    \n",
    "func()"
   ]
  },
  {
   "cell_type": "code",
   "execution_count": null,
   "metadata": {},
   "outputs": [],
   "source": [
    "def multiply(x, times=2):\n",
    "    return x * times\n",
    "\n",
    "print(multiply(5))\n",
    "print(multiply(5,3))"
   ]
  },
  {
   "cell_type": "markdown",
   "metadata": {},
   "source": [
    "## ΥΠΟΕΡΓΑΣΙΑ 2"
   ]
  },
  {
   "cell_type": "code",
   "execution_count": null,
   "metadata": {},
   "outputs": [],
   "source": [
    "# διάσχιση στοιχείων λίστας με μεταβλητή θέσης i για κάθε στοιχείο\n",
    "a_list = ['a', 'b', 'c']\n",
    "\n",
    "for i in range(len(a_list)):\n",
    "    print(i, a_list[i])\n",
    "\n",
    "# καλύτερα    \n",
    "for i, x in enumerate(a_list):\n",
    "    print(i, x)"
   ]
  },
  {
   "cell_type": "markdown",
   "metadata": {},
   "source": [
    "## ΥΠΟΕΡΓΑΣΙΑ 3"
   ]
  },
  {
   "cell_type": "code",
   "execution_count": null,
   "metadata": {},
   "outputs": [],
   "source": [
    "# άδεια λίστα, πλειάδα, λεξικό και σύνολο\n",
    "l = []\n",
    "t = ()\n",
    "d = {}\n",
    "s = set()\n",
    "l,t,d,s"
   ]
  },
  {
   "cell_type": "markdown",
   "metadata": {},
   "source": []
  }
 ],
 "metadata": {
  "interpreter": {
   "hash": "df0e2e8c0f0ded38fbb4d34030ae79c6158db9df6b5085f84b51c606d15585fb"
  },
  "kernelspec": {
   "display_name": "Python 3.10.0 64-bit",
   "language": "python",
   "name": "python3"
  },
  "language_info": {
   "codemirror_mode": {
    "name": "ipython",
    "version": 3
   },
   "file_extension": ".py",
   "mimetype": "text/x-python",
   "name": "python",
   "nbconvert_exporter": "python",
   "pygments_lexer": "ipython3",
   "version": "3.10.0"
  },
  "orig_nbformat": 4
 },
 "nbformat": 4,
 "nbformat_minor": 2
}
